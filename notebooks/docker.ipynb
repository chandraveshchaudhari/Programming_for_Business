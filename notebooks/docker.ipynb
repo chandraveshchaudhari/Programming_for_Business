{
 "cells": [
  {
   "cell_type": "markdown",
   "id": "d93ea2b2",
   "metadata": {},
   "source": [
    "# Containerization with Docker"
   ]
  },
  {
   "cell_type": "code",
   "execution_count": null,
   "id": "f4d8b3ee",
   "metadata": {},
   "outputs": [],
   "source": [
    "# Your code here"
   ]
  }
 ],
 "metadata": {},
 "nbformat": 4,
 "nbformat_minor": 5
}
