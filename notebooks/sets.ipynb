{
 "cells": [
  {
   "cell_type": "markdown",
   "id": "900e3739",
   "metadata": {},
   "source": [
    "# Sets Unique Elements and Set Operations"
   ]
  },
  {
   "cell_type": "code",
   "execution_count": null,
   "id": "2b820287",
   "metadata": {},
   "outputs": [],
   "source": [
    "# Your code here"
   ]
  }
 ],
 "metadata": {},
 "nbformat": 4,
 "nbformat_minor": 5
}
