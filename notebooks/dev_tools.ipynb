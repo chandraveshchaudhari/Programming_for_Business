{
 "cells": [
  {
   "cell_type": "markdown",
   "id": "191d693c",
   "metadata": {},
   "source": [
    "# Python Development Tools (IDEs Jupyter VSCode Google Colab)"
   ]
  },
  {
   "cell_type": "code",
   "execution_count": null,
   "id": "c0cca9be",
   "metadata": {},
   "outputs": [],
   "source": [
    "# Your code here"
   ]
  }
 ],
 "metadata": {},
 "nbformat": 4,
 "nbformat_minor": 5
}
