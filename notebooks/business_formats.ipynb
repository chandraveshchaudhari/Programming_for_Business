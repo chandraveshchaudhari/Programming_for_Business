{
 "cells": [
  {
   "cell_type": "markdown",
   "id": "535ea3a6",
   "metadata": {},
   "source": [
    "# Business Data Formats (Excel PDFs APIs)"
   ]
  },
  {
   "cell_type": "code",
   "execution_count": null,
   "id": "64293cd0",
   "metadata": {},
   "outputs": [],
   "source": [
    "# Your code here"
   ]
  }
 ],
 "metadata": {},
 "nbformat": 4,
 "nbformat_minor": 5
}
