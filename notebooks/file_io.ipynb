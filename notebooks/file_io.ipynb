{
 "cells": [
  {
   "cell_type": "markdown",
   "id": "5ad05e6e",
   "metadata": {},
   "source": [
    "# File Input Output (CSV Excel JSON XML)"
   ]
  },
  {
   "cell_type": "code",
   "execution_count": null,
   "id": "15a4034f",
   "metadata": {},
   "outputs": [],
   "source": [
    "# Your code here"
   ]
  }
 ],
 "metadata": {},
 "nbformat": 4,
 "nbformat_minor": 5
}
