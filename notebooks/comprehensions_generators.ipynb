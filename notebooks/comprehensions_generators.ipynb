{
 "cells": [
  {
   "cell_type": "markdown",
   "id": "58f84403",
   "metadata": {},
   "source": [
    "# List Comprehensions and Generator Expressions"
   ]
  },
  {
   "cell_type": "code",
   "execution_count": null,
   "id": "030704dd",
   "metadata": {},
   "outputs": [],
   "source": [
    "# Your code here"
   ]
  }
 ],
 "metadata": {},
 "nbformat": 4,
 "nbformat_minor": 5
}
