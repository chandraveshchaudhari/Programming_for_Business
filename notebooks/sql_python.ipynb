{
 "cells": [
  {
   "cell_type": "markdown",
   "id": "3b252684",
   "metadata": {},
   "source": [
    "# SQL with Python (SQLite MySQL PostgreSQL)"
   ]
  },
  {
   "cell_type": "code",
   "execution_count": null,
   "id": "d738befb",
   "metadata": {},
   "outputs": [],
   "source": [
    "# Your code here"
   ]
  }
 ],
 "metadata": {},
 "nbformat": 4,
 "nbformat_minor": 5
}
