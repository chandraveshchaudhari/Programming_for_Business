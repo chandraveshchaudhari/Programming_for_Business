{
 "cells": [
  {
   "cell_type": "markdown",
   "id": "57d9b552",
   "metadata": {},
   "source": [
    "# Tuples and Other Built in Types"
   ]
  },
  {
   "cell_type": "code",
   "execution_count": null,
   "id": "17f17ac4",
   "metadata": {},
   "outputs": [],
   "source": [
    "# Your code here"
   ]
  }
 ],
 "metadata": {},
 "nbformat": 4,
 "nbformat_minor": 5
}
