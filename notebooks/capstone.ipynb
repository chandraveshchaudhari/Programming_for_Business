{
 "cells": [
  {
   "cell_type": "markdown",
   "id": "23abf8d3",
   "metadata": {},
   "source": [
    "# Capstone Project Real Business Case Study"
   ]
  },
  {
   "cell_type": "code",
   "execution_count": null,
   "id": "15e30856",
   "metadata": {},
   "outputs": [],
   "source": [
    "# Your code here"
   ]
  }
 ],
 "metadata": {},
 "nbformat": 4,
 "nbformat_minor": 5
}
