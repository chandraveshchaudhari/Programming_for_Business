{
 "cells": [
  {
   "cell_type": "markdown",
   "id": "783c6755",
   "metadata": {},
   "source": [
    "# Career Paths in Python Data and Business Analytics"
   ]
  },
  {
   "cell_type": "code",
   "execution_count": null,
   "id": "49055664",
   "metadata": {},
   "outputs": [],
   "source": [
    "# Your code here"
   ]
  }
 ],
 "metadata": {},
 "nbformat": 4,
 "nbformat_minor": 5
}
