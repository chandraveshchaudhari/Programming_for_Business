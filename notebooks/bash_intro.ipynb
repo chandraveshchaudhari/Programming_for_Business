{
 "cells": [
  {
   "cell_type": "markdown",
   "id": "6ee2300e",
   "metadata": {},
   "source": [
    "# Introduction to Bash and Linux"
   ]
  },
  {
   "cell_type": "code",
   "execution_count": null,
   "id": "13155810",
   "metadata": {},
   "outputs": [],
   "source": [
    "# Your code here"
   ]
  }
 ],
 "metadata": {},
 "nbformat": 4,
 "nbformat_minor": 5
}
