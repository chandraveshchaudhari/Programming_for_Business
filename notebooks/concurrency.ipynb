{
 "cells": [
  {
   "cell_type": "markdown",
   "id": "5d18a033",
   "metadata": {},
   "source": [
    "# Multithreading and Multiprocessing"
   ]
  },
  {
   "cell_type": "code",
   "execution_count": null,
   "id": "49beacc8",
   "metadata": {},
   "outputs": [],
   "source": [
    "# Your code here"
   ]
  }
 ],
 "metadata": {},
 "nbformat": 4,
 "nbformat_minor": 5
}
