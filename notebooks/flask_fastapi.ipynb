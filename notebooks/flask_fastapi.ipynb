{
 "cells": [
  {
   "cell_type": "markdown",
   "id": "aaba23cc",
   "metadata": {},
   "source": [
    "# Deploying Models with Flask FastAPI"
   ]
  },
  {
   "cell_type": "code",
   "execution_count": null,
   "id": "9610ed27",
   "metadata": {},
   "outputs": [],
   "source": [
    "# Your code here"
   ]
  }
 ],
 "metadata": {},
 "nbformat": 4,
 "nbformat_minor": 5
}
