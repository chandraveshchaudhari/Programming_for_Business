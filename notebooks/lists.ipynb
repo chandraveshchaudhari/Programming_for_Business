{
 "cells": [
  {
   "cell_type": "markdown",
   "id": "11fcddc3",
   "metadata": {},
   "source": [
    "# Lists Operations Slicing and Comprehensions"
   ]
  },
  {
   "cell_type": "code",
   "execution_count": null,
   "id": "44a80452",
   "metadata": {},
   "outputs": [],
   "source": [
    "# Your code here"
   ]
  }
 ],
 "metadata": {},
 "nbformat": 4,
 "nbformat_minor": 5
}
