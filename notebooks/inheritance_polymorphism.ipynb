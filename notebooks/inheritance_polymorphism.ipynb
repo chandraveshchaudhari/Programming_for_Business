{
 "cells": [
  {
   "cell_type": "markdown",
   "id": "df33da20",
   "metadata": {},
   "source": [
    "# Inheritance and Polymorphism"
   ]
  },
  {
   "cell_type": "code",
   "execution_count": null,
   "id": "f964995d",
   "metadata": {},
   "outputs": [],
   "source": [
    "# Your code here"
   ]
  }
 ],
 "metadata": {},
 "nbformat": 4,
 "nbformat_minor": 5
}
