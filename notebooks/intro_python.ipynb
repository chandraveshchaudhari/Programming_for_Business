{
 "cells": [
  {
   "cell_type": "markdown",
   "id": "dc9fd1dc",
   "metadata": {},
   "source": [
    "# Introduction to Python for Machine Learning and Business"
   ]
  },
  {
   "cell_type": "code",
   "execution_count": null,
   "id": "c2934215",
   "metadata": {},
   "outputs": [],
   "source": [
    "# Your code here"
   ]
  }
 ],
 "metadata": {},
 "nbformat": 4,
 "nbformat_minor": 5
}
