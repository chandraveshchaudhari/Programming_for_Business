{
 "cells": [
  {
   "cell_type": "markdown",
   "id": "53203c99",
   "metadata": {},
   "source": [
    "# Core Data Structures"
   ]
  },
  {
   "cell_type": "code",
   "execution_count": null,
   "id": "2040ca20",
   "metadata": {},
   "outputs": [],
   "source": [
    "# Your code here"
   ]
  }
 ],
 "metadata": {},
 "nbformat": 4,
 "nbformat_minor": 5
}
