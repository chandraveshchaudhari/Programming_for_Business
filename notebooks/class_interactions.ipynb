{
 "cells": [
  {
   "cell_type": "markdown",
   "id": "39824cc0",
   "metadata": {},
   "source": [
    "# Interactions Between Classes"
   ]
  },
  {
   "cell_type": "code",
   "execution_count": null,
   "id": "eee13c7a",
   "metadata": {},
   "outputs": [],
   "source": [
    "# Your code here"
   ]
  }
 ],
 "metadata": {},
 "nbformat": 4,
 "nbformat_minor": 5
}
