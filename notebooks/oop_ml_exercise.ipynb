{
 "cells": [
  {
   "cell_type": "markdown",
   "id": "6ce007a2",
   "metadata": {},
   "source": [
    "# Exercise Building Classes for ML Pipelines"
   ]
  },
  {
   "cell_type": "code",
   "execution_count": null,
   "id": "f38820ea",
   "metadata": {},
   "outputs": [],
   "source": [
    "# Your code here"
   ]
  }
 ],
 "metadata": {},
 "nbformat": 4,
 "nbformat_minor": 5
}
