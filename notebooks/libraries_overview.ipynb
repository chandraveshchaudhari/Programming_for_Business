{
 "cells": [
  {
   "cell_type": "markdown",
   "id": "2f336ff6",
   "metadata": {},
   "source": [
    "# Working with Libraries (NumPy Pandas Matplotlib)"
   ]
  },
  {
   "cell_type": "code",
   "execution_count": null,
   "id": "bd87894c",
   "metadata": {},
   "outputs": [],
   "source": [
    "# Your code here"
   ]
  }
 ],
 "metadata": {},
 "nbformat": 4,
 "nbformat_minor": 5
}
