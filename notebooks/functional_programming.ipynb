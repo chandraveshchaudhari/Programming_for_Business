{
 "cells": [
  {
   "cell_type": "markdown",
   "id": "2ee8c7a5",
   "metadata": {},
   "source": [
    "# Functional Programming (Map Filter Reduce)"
   ]
  },
  {
   "cell_type": "code",
   "execution_count": null,
   "id": "ec062830",
   "metadata": {},
   "outputs": [],
   "source": [
    "# Your code here"
   ]
  }
 ],
 "metadata": {},
 "nbformat": 4,
 "nbformat_minor": 5
}
