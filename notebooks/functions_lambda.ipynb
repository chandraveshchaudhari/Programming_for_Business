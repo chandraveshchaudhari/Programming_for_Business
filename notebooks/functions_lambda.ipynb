{
 "cells": [
  {
   "cell_type": "markdown",
   "id": "2cedfb8a",
   "metadata": {},
   "source": [
    "# Functions and Lambda Expressions"
   ]
  },
  {
   "cell_type": "code",
   "execution_count": null,
   "id": "57b437f6",
   "metadata": {},
   "outputs": [],
   "source": [
    "# Your code here"
   ]
  }
 ],
 "metadata": {},
 "nbformat": 4,
 "nbformat_minor": 5
}
