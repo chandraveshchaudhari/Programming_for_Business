{
 "cells": [
  {
   "cell_type": "markdown",
   "id": "118276e3",
   "metadata": {},
   "source": [
    "# Managing Python Environments in Linux"
   ]
  },
  {
   "cell_type": "code",
   "execution_count": null,
   "id": "deb4b474",
   "metadata": {},
   "outputs": [],
   "source": [
    "# Your code here"
   ]
  }
 ],
 "metadata": {},
 "nbformat": 4,
 "nbformat_minor": 5
}
