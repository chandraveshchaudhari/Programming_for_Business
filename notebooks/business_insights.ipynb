{
 "cells": [
  {
   "cell_type": "markdown",
   "id": "7d95613f",
   "metadata": {},
   "source": [
    "# Data Analysis for Business Insights"
   ]
  },
  {
   "cell_type": "code",
   "execution_count": null,
   "id": "b93fdaf3",
   "metadata": {},
   "outputs": [],
   "source": [
    "# Your code here"
   ]
  }
 ],
 "metadata": {},
 "nbformat": 4,
 "nbformat_minor": 5
}
