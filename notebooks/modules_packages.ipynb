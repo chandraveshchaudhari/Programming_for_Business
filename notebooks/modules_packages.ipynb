{
 "cells": [
  {
   "cell_type": "markdown",
   "id": "4a9941f0",
   "metadata": {},
   "source": [
    "# Modules and Packages"
   ]
  },
  {
   "cell_type": "code",
   "execution_count": null,
   "id": "59df0e39",
   "metadata": {},
   "outputs": [],
   "source": [
    "# Your code here"
   ]
  }
 ],
 "metadata": {},
 "nbformat": 4,
 "nbformat_minor": 5
}
