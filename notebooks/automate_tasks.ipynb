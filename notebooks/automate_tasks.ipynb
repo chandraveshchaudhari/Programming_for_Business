{
 "cells": [
  {
   "cell_type": "markdown",
   "id": "88a7290c",
   "metadata": {},
   "source": [
    "# Automating Business Tasks with Python"
   ]
  },
  {
   "cell_type": "code",
   "execution_count": null,
   "id": "cb6fb4ec",
   "metadata": {},
   "outputs": [],
   "source": [
    "# Your code here"
   ]
  }
 ],
 "metadata": {},
 "nbformat": 4,
 "nbformat_minor": 5
}
