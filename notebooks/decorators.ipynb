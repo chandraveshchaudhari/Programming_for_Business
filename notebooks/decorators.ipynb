{
 "cells": [
  {
   "cell_type": "markdown",
   "id": "c864197b",
   "metadata": {},
   "source": [
    "# Decorators Enhancing Functions and Methods"
   ]
  },
  {
   "cell_type": "code",
   "execution_count": null,
   "id": "410c803d",
   "metadata": {},
   "outputs": [],
   "source": [
    "# Your code here"
   ]
  }
 ],
 "metadata": {},
 "nbformat": 4,
 "nbformat_minor": 5
}
