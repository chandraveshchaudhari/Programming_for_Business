{
 "cells": [
  {
   "cell_type": "markdown",
   "id": "1816acd3",
   "metadata": {},
   "source": [
    "# NoSQL with Python (MongoDB Firebase)"
   ]
  },
  {
   "cell_type": "code",
   "execution_count": null,
   "id": "54d99de8",
   "metadata": {},
   "outputs": [],
   "source": [
    "# Your code here"
   ]
  }
 ],
 "metadata": {},
 "nbformat": 4,
 "nbformat_minor": 5
}
