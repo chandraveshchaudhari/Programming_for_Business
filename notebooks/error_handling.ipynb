{
 "cells": [
  {
   "cell_type": "markdown",
   "id": "27906c2b",
   "metadata": {},
   "source": [
    "# Error Handling and Exceptions"
   ]
  },
  {
   "cell_type": "code",
   "execution_count": null,
   "id": "f6b736c5",
   "metadata": {},
   "outputs": [],
   "source": [
    "# Your code here"
   ]
  }
 ],
 "metadata": {},
 "nbformat": 4,
 "nbformat_minor": 5
}
