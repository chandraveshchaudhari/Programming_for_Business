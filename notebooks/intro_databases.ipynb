{
 "cells": [
  {
   "cell_type": "markdown",
   "id": "144aca27",
   "metadata": {},
   "source": [
    "# Introduction to Databases (SQL vs NoSQL)"
   ]
  },
  {
   "cell_type": "code",
   "execution_count": null,
   "id": "2e2c6eeb",
   "metadata": {},
   "outputs": [],
   "source": [
    "# Your code here"
   ]
  }
 ],
 "metadata": {},
 "nbformat": 4,
 "nbformat_minor": 5
}
