{
 "cells": [
  {
   "metadata": {},
   "cell_type": "markdown",
   "source": "# Python Crash Course"
  },
  {
   "cell_type": "markdown",
   "metadata": {},
   "source": [
    "# Lists\n",
    "Lists are ordered, mutable collections of items that can contain any data type.\n",
    "\n",
    "## Key Concepts\n",
    "- **Creation**: Use square brackets `[]` or `list()`.\n",
    "- **Indexing/Slicing**: Access elements with indices (`list[0]`) or slices (`list[1:3]`).\n",
    "- **Methods**: Common methods include `append()`, `remove()`, `pop()`, `sort()`, and `reverse()`.\n",
    "- **Loops**: Use `for` or `while` loops to iterate over lists."
   ]
  },
  {
   "cell_type": "code",
   "execution_count": 17,
   "metadata": {},
   "outputs": [
    {
     "name": "stdout",
     "output_type": "stream",
     "text": [
      "['apple', 'mango', 'orange', 'grape']\n",
      "I like apple\n",
      "I like mango\n",
      "I like orange\n",
      "I like grape\n",
      "['APPLE', 'MANGO', 'ORANGE', 'GRAPE']\n"
     ]
    }
   ],
   "source": [
    "# Creating and manipulating a list\n",
    "fruits = [\"apple\", \"banana\", \"orange\"]\n",
    "fruits.append(\"grape\")  # Add item\n",
    "fruits[1] = \"mango\"  # Modify item\n",
    "print(fruits)  # Output: ['apple', 'mango', 'orange', 'grape']\n",
    "\n",
    "# Looping through a list\n",
    "for fruit in fruits:\n",
    "    print(f\"I like {fruit}\")\n",
    "\n",
    "# List comprehension\n",
    "upper_fruits = [fruit.upper() for fruit in fruits]\n",
    "print(upper_fruits)  # Output: ['APPLE', 'MANGO', 'ORANGE', 'GRAPE']"
   ]
  },
  {
   "cell_type": "markdown",
   "metadata": {},
   "source": [
    "## Exercises\n",
    "1. Create a list of numbers from 1 to 10 and use a loop to print only even numbers.\n",
    "2. Write a function `remove_duplicates(lst)` that removes duplicates from a list using a loop (without using sets).\n",
    "3. Use a list comprehension to create a list of squares for numbers 1 to 5.\n",
    "4. Create a list of strings and reverse it using a loop (not `reverse()` or slicing)."
   ]
  },
  {
   "cell_type": "markdown",
   "metadata": {},
   "source": [
    "# Dictionaries\n",
    "Dictionaries are unordered, mutable collections of key-value pairs.\n",
    "\n",
    "## Key Concepts\n",
    "- **Creation**: Use curly braces `{}` or `dict()`.\n",
    "- **Access**: Use keys to access values (`dict[key]`).\n",
    "- **Methods**: Common methods include `keys()`, `values()`, `items()`, `get()`, and `pop()`.\n",
    "- **Loops**: Iterate over keys, values, or key-value pairs."
   ]
  },
  {
   "cell_type": "code",
   "execution_count": 18,
   "metadata": {},
   "outputs": [
    {
     "name": "stdout",
     "output_type": "stream",
     "text": [
      "Alice\n",
      "name: Alice\n",
      "age: 20\n",
      "grade: A\n",
      "major: Computer Science\n",
      "{1: 1, 2: 4, 3: 9, 4: 16}\n"
     ]
    }
   ],
   "source": [
    "# Creating and manipulating a dictionary\n",
    "student = {\"name\": \"Alice\", \"age\": 20, \"grade\": \"A\"}\n",
    "student[\"major\"] = \"Computer Science\"  # Add key-value pair\n",
    "print(student[\"name\"])  # Output: Alice\n",
    "\n",
    "# Looping through a dictionary\n",
    "for key, value in student.items():\n",
    "    print(f\"{key}: {value}\")\n",
    "\n",
    "# Dictionary comprehension\n",
    "squared_nums = {x: x**2 for x in range(1, 5)}\n",
    "print(squared_nums)  # Output: {1: 1, 2: 4, 3: 9, 4: 16}"
   ]
  },
  {
   "cell_type": "markdown",
   "metadata": {},
   "source": [
    "## Exercises\n",
    "1. Create a dictionary with 5 items and use a loop to print only keys with string values.\n",
    "2. Write a function `merge_dicts(dict1, dict2)` that merges two dictionaries, keeping the value from `dict2` if keys overlap.\n",
    "3. Use a dictionary comprehension to create a dictionary mapping numbers 1 to 5 to their cubes.\n",
    "4. Create a dictionary of student grades and use a loop to find the student with the highest grade."
   ]
  },
  {
   "cell_type": "markdown",
   "metadata": {},
   "source": [
    "# Sets\n",
    "Sets are unordered, mutable collections of unique items.\n",
    "\n",
    "## Key Concepts\n",
    "- **Creation**: Use curly braces `{}` or `set()`.\n",
    "- **Operations**: Common operations include `union()`, `intersection()`, `difference()`, and `add()`.\n",
    "- **Loops**: Use `for` loops to iterate over sets.\n",
    "- **Uniqueness**: Sets automatically remove duplicates."
   ]
  },
  {
   "cell_type": "code",
   "execution_count": 19,
   "metadata": {},
   "outputs": [
    {
     "name": "stdout",
     "output_type": "stream",
     "text": [
      "{1, 2, 3, 4, 5}\n",
      "{2, 3}\n",
      "Number: 1\n",
      "Number: 2\n",
      "Number: 3\n",
      "Number: 4\n",
      "Number: 5\n"
     ]
    }
   ],
   "source": [
    "# Creating and manipulating a set\n",
    "numbers = {1, 2, 2, 3, 4}  # Duplicates are removed\n",
    "numbers.add(5)\n",
    "print(numbers)  # Output: {1, 2, 3, 4, 5}\n",
    "\n",
    "# Set operations\n",
    "set1 = {1, 2, 3}\n",
    "set2 = {2, 3, 4}\n",
    "print(set1.intersection(set2))  # Output: {2, 3}\n",
    "\n",
    "# Looping through a set\n",
    "for num in numbers:\n",
    "    print(f\"Number: {num}\")"
   ]
  },
  {
   "cell_type": "markdown",
   "metadata": {},
   "source": [
    "## Exercises\n",
    "1. Create two sets of numbers and use a loop to print their symmetric difference (elements in either set but not both).\n",
    "2. Write a function `is_subset(set1, set2)` that checks if `set1` is a subset of `set2` using a loop.\n",
    "3. Use a set comprehension to create a set of even numbers from 1 to 10.\n",
    "4. Create a set of strings and use a loop to remove all items containing a specific letter (e.g., 'a')."
   ]
  },
  {
   "cell_type": "code",
   "execution_count": null,
   "metadata": {},
   "outputs": [],
   "source": []
  },
  {
   "cell_type": "markdown",
   "metadata": {},
   "source": [
    "# Classes\n",
    "Classes are blueprints for creating objects, encapsulating data (attributes) and behavior (methods).\n",
    "\n",
    "## Key Concepts\n",
    "- **Class Definition**: Use the `class` keyword.\n",
    "- **Attributes**: Class attributes (shared by all instances) and instance attributes (unique to each instance).\n",
    "- **Methods**: Functions defined within a class, using `self` to access instance attributes.\n",
    "- **Constructor**: The `__init__` method initializes instance attributes."
   ]
  },
  {
   "cell_type": "code",
   "execution_count": 20,
   "metadata": {},
   "outputs": [
    {
     "name": "stdout",
     "output_type": "stream",
     "text": [
      "Hi, I'm Alice, age 16, from Python High\n",
      "Python High\n"
     ]
    }
   ],
   "source": [
    "# Basic class definition\n",
    "class Student:\n",
    "    school = \"Python High\"  # Class attribute\n",
    "\n",
    "    def __init__(self, name, age):\n",
    "        self.name = name  # Instance attribute\n",
    "        self.age = age\n",
    "\n",
    "    def introduce(self):\n",
    "        return f\"Hi, I'm {self.name}, age {self.age}, from {self.school}\"\n",
    "\n",
    "# Usage\n",
    "student1 = Student(\"Alice\", 16)\n",
    "student2 = Student(\"Bob\", 17)\n",
    "print(student1.introduce())  # Output: Hi, I'm Alice, age 16, from Python High\n",
    "print(student2.school)  # Output: Python High"
   ]
  },
  {
   "cell_type": "markdown",
   "metadata": {},
   "source": [
    "## Exercises\n",
    "1. Create a `Book` class with attributes `title`, `author`, and a class attribute `library_name`. Add a method `describe()` to return a string like \"Title by Author\".\n",
    "2. Modify the `Student` class to include a method `is_adult()` that returns `True` if the student is 18 or older.\n",
    "3. Create a `Rectangle` class with attributes `width` and `height`, and a method `area()` to calculate the area.\n",
    "4. Add a class attribute `student_count` to the `Student` class that increments each time a new student is created."
   ]
  },
  {
   "cell_type": "markdown",
   "metadata": {},
   "source": [
    "# Inheritance\n",
    "Inheritance allows a child class to inherit attributes and methods from a parent class, enabling code reuse and extension.\n",
    "\n",
    "## Key Concepts\n",
    "- **Parent/Child Classes**: A child class inherits from a parent using `class Child(Parent):`.\n",
    "- **Method Overriding**: Redefine a parent class method in the child class.\n",
    "- **super()**: Call parent class methods from the child class.\n",
    "- **Multiple Inheritance**: A class can inherit from multiple parents (use cautiously)."
   ]
  },
  {
   "cell_type": "code",
   "execution_count": 21,
   "metadata": {},
   "outputs": [
    {
     "name": "stdout",
     "output_type": "stream",
     "text": [
      "Max says Woof!\n",
      "Labrador\n"
     ]
    }
   ],
   "source": [
    "# Parent class\n",
    "class Animal:\n",
    "    def __init__(self, name):\n",
    "        self.name = name\n",
    "\n",
    "    def speak(self):\n",
    "        return f\"{self.name} makes a sound\"\n",
    "\n",
    "# Child class\n",
    "class Dog(Animal):\n",
    "    def __init__(self, name, breed):\n",
    "        super().__init__(name)\n",
    "        self.breed = breed\n",
    "\n",
    "    def speak(self):  # Override parent method\n",
    "        return f\"{self.name} says Woof!\"\n",
    "\n",
    "# Usage\n",
    "dog = Dog(\"Max\", \"Labrador\")\n",
    "print(dog.speak())  # Output: Max says Woof!\n",
    "print(dog.breed)  # Output: Labrador"
   ]
  },
  {
   "cell_type": "markdown",
   "metadata": {},
   "source": [
    "## Exercises\n",
    "1. Create a `Person` class with a `name` attribute and a `greet()` method. Create a `Teacher` class that inherits from `Person` and adds a `subject` attribute.\n",
    "2. Extend the `Animal` class with a `Cat` class that overrides `speak()` to return \"Meow!\" and adds a `purr()` method.\n",
    "3. Create a `Vehicle` class with a `move()` method. Create `Car` and `Bicycle` child classes with custom `move()` implementations.\n",
    "4. Use `super()` in a child class to extend (not override) a parent class method, e.g., adding extra information to a `describe()` method."
   ]
  },
  {
   "cell_type": "markdown",
   "metadata": {},
   "source": [
    "# Static Methods\n",
    "Static methods are methods within a class that don’t access or modify instance or class state. They behave like regular functions but are defined inside a class.\n",
    "\n",
    "## Key Concepts\n",
    "- **Definition**: Use `@staticmethod`. No `self` or `cls` argument.\n",
    "- **Purpose**: Used for utility functions related to the class but independent of instance/class data.\n",
    "- **Access**: Called on the class or an instance, but don’t access instance/class attributes.\n",
    "- **Use Cases**: Validation, formatting, or calculations not tied to object state."
   ]
  },
  {
   "cell_type": "code",
   "execution_count": 22,
   "metadata": {},
   "outputs": [
    {
     "name": "stdout",
     "output_type": "stream",
     "text": [
      "True\n",
      "25\n",
      "False\n"
     ]
    }
   ],
   "source": [
    "class MathUtils:\n",
    "    @staticmethod\n",
    "    def is_prime(n):\n",
    "        if n < 2:\n",
    "            return False\n",
    "        for i in range(2, int(n ** 0.5) + 1):\n",
    "            if n % i == 0:\n",
    "                return False\n",
    "        return True\n",
    "\n",
    "    @staticmethod\n",
    "    def square(n):\n",
    "        return n * n\n",
    "\n",
    "# Usage\n",
    "print(MathUtils.is_prime(17))  # Output: True\n",
    "print(MathUtils.square(5))  # Output: 25\n",
    "math_obj = MathUtils()\n",
    "print(math_obj.is_prime(4))  # Output: False"
   ]
  },
  {
   "cell_type": "markdown",
   "metadata": {},
   "source": [
    "## Exercises\n",
    "1. Create a `StringUtils` class with a static method `is_palindrome(s)` that checks if a string is a palindrome.\n",
    "2. Add a static method `format_currency(amount)` to a `Money` class that formats a number as \"$X.XX\" (e.g., 5 → \"$5.00\").\n",
    "3. Write a static method `is_valid_email(email)` in a `User` class that checks if an email string contains \"@\" and \".\".\n",
    "4. Create a `Geometry` class with a static method `circle_area(radius)` that calculates the area of a circle (use `3.14` for π)."
   ]
  },
  {
   "cell_type": "markdown",
   "metadata": {},
   "source": [
    "# Class Methods\n",
    "Class methods operate on the class itself, not instances. They have access to class-level data and are often used for alternative constructors.\n",
    "\n",
    "## Key Concepts\n",
    "- **Definition**: Use `@classmethod`. Takes `cls` as the first argument, referring to the class.\n",
    "- **Purpose**: Modify or access class-level data or create instances in alternative ways.\n",
    "- **Access**: Called on the class or an instance, with `cls` providing access to the class.\n",
    "- **Use Cases**: Factory methods, updating shared class attributes, or class-wide operations."
   ]
  },
  {
   "cell_type": "code",
   "execution_count": 23,
   "metadata": {},
   "outputs": [
    {
     "name": "stdout",
     "output_type": "stream",
     "text": [
      "Tech Corp has 2 employees\n",
      "Bob 60000\n"
     ]
    }
   ],
   "source": [
    "class Employee:\n",
    "    company = \"Tech Corp\"  # Class attribute\n",
    "    employees = []  # Track all employees\n",
    "\n",
    "    def __init__(self, name, salary):\n",
    "        self.name = name\n",
    "        self.salary = salary\n",
    "        Employee.employees.append(self)\n",
    "\n",
    "    @classmethod\n",
    "    def from_string(cls, emp_str):\n",
    "        name, salary = emp_str.split(\",\")\n",
    "        return cls(name, int(salary))\n",
    "\n",
    "    @classmethod\n",
    "    def total_employees(cls):\n",
    "        return f\"{cls.company} has {len(cls.employees)} employees\"\n",
    "\n",
    "# Usage\n",
    "emp1 = Employee(\"Alice\", 50000)\n",
    "emp2 = Employee.from_string(\"Bob,60000\")\n",
    "print(Employee.total_employees())  # Output: Tech Corp has 2 employees\n",
    "print(emp2.name, emp2.salary)  # Output: Bob 60000"
   ]
  },
  {
   "cell_type": "markdown",
   "metadata": {},
   "source": [
    "## Exercises\n",
    "1. Create a `Product` class with a class method `from_dict(cls, data)` that creates a product from a dictionary (e.g., `{\"name\": \"Laptop\", \"price\": 1000}`).\n",
    "2. Add a class method `set_company(cls, new_company)` to the `Employee` class that updates the `company` class attribute.\n",
    "3. Create a `Book` class with a class method `add_to_catalog(cls, title)` that adds a book title to a class-level `catalog` list.\n",
    "4. Write a class method `average_salary(cls)` in the `Employee` class that calculates the average salary of all employees."
   ]
  },
  {
   "cell_type": "markdown",
   "metadata": {},
   "source": [
    "# Differences Between Static Methods, Class Methods, and Instance Methods\n",
    "- **Instance Methods**: Take `self`, operate on instance attributes, used for instance-specific behavior.\n",
    "- **Static Methods**: Don’t take `self` or `cls`, behave like regular functions, used for utility tasks.\n",
    "- **Class Methods**: Take `cls`, operate on class-level data, used for class-wide operations or alternative constructors.\n",
    "- **When to Use**:\n",
    "  - **Instance Methods**: For actions tied to a specific object.\n",
    "  - **Static Methods**: For helper functions not needing instance/class data.\n",
    "  - **Class Methods**: For operations involving the class or alternative constructors."
   ]
  },
  {
   "cell_type": "code",
   "execution_count": null,
   "metadata": {},
   "outputs": [],
   "source": []
  },
  {
   "cell_type": "code",
   "execution_count": null,
   "metadata": {},
   "outputs": [],
   "source": []
  },
  {
   "cell_type": "code",
   "execution_count": null,
   "metadata": {},
   "outputs": [],
   "source": []
  },
  {
   "cell_type": "code",
   "execution_count": null,
   "metadata": {},
   "outputs": [],
   "source": []
  },
  {
   "cell_type": "code",
   "execution_count": null,
   "metadata": {},
   "outputs": [],
   "source": []
  },
  {
   "cell_type": "markdown",
   "metadata": {},
   "source": [
    "# Decorators\n",
    "Decorators modify or extend the behavior of functions or methods without changing their code. They are functions that wrap other functions or classes.\n",
    "\n",
    "## Key Concepts\n",
    "- **What is a Decorator?**: A function that takes another function as input, adds functionality, and returns a new function. Applied with `@decorator_name`.\n",
    "- **Purpose**: Used for logging, timing, access control, or modifying outputs.\n",
    "- **How They Work**: A decorator wraps a function with a \"wrapper\" function that adds behavior before/after the original function.\n",
    "- **Class Decorators**: Modify entire classes by adding attributes or methods.\n",
    "- **Use in Classes**: Apply decorators to methods or define decorators within a class."
   ]
  },
  {
   "cell_type": "code",
   "execution_count": 24,
   "metadata": {},
   "outputs": [
    {
     "name": "stdout",
     "output_type": "stream",
     "text": [
      "Version: 1.0\n",
      "Calling enroll with args: (<__main__.Course object at 0x138345010>, 'Alice'), kwargs: {}\n",
      "enroll returned: Alice enrolled in Python Programming\n",
      "Alice enrolled in Python Programming\n"
     ]
    }
   ],
   "source": [
    "# Function decorator\n",
    "def log_call(func):\n",
    "    def wrapper(*args, **kwargs):\n",
    "        print(f\"Calling {func.__name__} with args: {args}, kwargs: {kwargs}\")\n",
    "        result = func(*args, **kwargs)\n",
    "        print(f\"{func.__name__} returned: {result}\")\n",
    "        return result\n",
    "    return wrapper\n",
    "\n",
    "# Class decorator\n",
    "def add_version(cls):\n",
    "    cls.version = \"1.0\"\n",
    "    def get_version(self):\n",
    "        return f\"Version: {self.version}\"\n",
    "    cls.get_version = get_version\n",
    "    return cls\n",
    "\n",
    "# Applying decorators\n",
    "@add_version\n",
    "class Course:\n",
    "    def __init__(self, title):\n",
    "        self.title = title\n",
    "\n",
    "    @log_call\n",
    "    def enroll(self, student):\n",
    "        return f\"{student} enrolled in {self.title}\"\n",
    "\n",
    "# Usage\n",
    "course = Course(\"Python Programming\")\n",
    "print(course.get_version())  # Output: Version: 1.0\n",
    "print(course.enroll(\"Alice\"))  # Output: (log messages) Alice enrolled in Python Programming"
   ]
  },
  {
   "cell_type": "markdown",
   "metadata": {},
   "source": [
    "## Exercises\n",
    "1. Write a decorator `uppercase` that converts a method’s string output to uppercase.\n",
    "2. Create a decorator `timer` that prints the execution time of a function using `time.time()`.\n",
    "3. Write a class decorator `add_created_at` that adds a `created_at` attribute with the current timestamp (use `datetime.datetime.now()`).\n",
    "4. Create a decorator `restrict_access` that prevents a method from running if a class attribute `is_authorized` is `False`."
   ]
  },
  {
   "cell_type": "markdown",
   "metadata": {},
   "source": [
    "# Interactions Between Classes\n",
    "Classes can interact through **composition** (one class contains another) or **association** (classes reference each other).\n",
    "\n",
    "## Key Concepts\n",
    "- **Composition**: One class owns instances of another (e.g., a `Zoo` contains `Animal` objects).\n",
    "- **Association**: Classes interact without ownership (e.g., a `Teacher` references `Student` objects).\n",
    "- **Method Calls**: Classes can call each other’s methods to collaborate."
   ]
  },
  {
   "cell_type": "code",
   "execution_count": 25,
   "metadata": {},
   "outputs": [
    {
     "name": "stdout",
     "output_type": "stream",
     "text": [
      "['Simba roars!']\n"
     ]
    }
   ],
   "source": [
    "class Zoo:\n",
    "    def __init__(self):\n",
    "        self.animals = []\n",
    "\n",
    "    def add_animal(self, animal):\n",
    "        self.animals.append(animal)\n",
    "\n",
    "    def make_sounds(self):\n",
    "        return [animal.speak() for animal in self.animals]\n",
    "\n",
    "class Animal:\n",
    "    def __init__(self, name):\n",
    "        self.name = name\n",
    "\n",
    "    def speak(self):\n",
    "        return f\"{self.name} makes a sound\"\n",
    "\n",
    "class Lion(Animal):\n",
    "    def speak(self):\n",
    "        return f\"{self.name} roars!\"\n",
    "\n",
    "# Usage\n",
    "zoo = Zoo()\n",
    "lion = Lion(\"Simba\")\n",
    "zoo.add_animal(lion)\n",
    "print(zoo.make_sounds())  # Output: ['Simba roars!']"
   ]
  },
  {
   "cell_type": "markdown",
   "metadata": {},
   "source": [
    "## Exercises\n",
    "1. Create a `School` class that contains a list of `Student` objects (composition). Add a method to list all student names.\n",
    "2. Create a `Teacher` class that references a `Course` object (association) and a method to describe the course.\n",
    "3. Modify the `Zoo` class to include a method `count_animals()` that returns the number of animals.\n",
    "4. Create a `Department` class that contains a list of `Employee` objects, where `Employee` inherits from `Person`. Add a method to find the employee with the highest salary."
   ]
  },
  {
   "cell_type": "markdown",
   "metadata": {},
   "source": [
    "# Python Exercise: Understanding the Benefits of Classes (With and Without Inheritance)\n",
    "\n",
    "This exercise demonstrates how classes improve code organization, reduce duplication, and enhance readability compared to functions, and how inheritance further enhances these benefits. We'll build a simple inventory system for a store managing books and electronics, first using functions, then simple classes without inheritance, and finally classes with inheritance.\n",
    "\n",
    "## Step 1: Function-Based Inventory System\n",
    "\n",
    "**Task**: Create an inventory system for books and electronics using functions. Each category should have functions to add items, remove items, and display the inventory. Items have a name, price, and quantity, stored in dictionaries.\n",
    "\n",
    "**Instructions**:\n",
    "1. Write separate functions for books and electronics.\n",
    "2. Each category needs:\n",
    "   - A function to add an item (name, price, quantity).\n",
    "   - A function to remove an item by name.\n",
    "   - A function to display all items.\n",
    "3. Use dictionaries to store items (key: item name, value: tuple of (price, quantity)).\n",
    "4. Test the functions with sample data.\n",
    "\n",
    "### Function-Based Code"
   ]
  },
  {
   "cell_type": "code",
   "execution_count": 8,
   "metadata": {},
   "outputs": [
    {
     "name": "stdout",
     "output_type": "stream",
     "text": [
      "Added book: Python Basics\n",
      "Added book: Data Science\n",
      "Removed book: Python Basics\n",
      "\n",
      "Book Inventory:\n",
      "Name: Data Science, Price: $39.99, Quantity: 5\n",
      "Added electronic: Laptop\n",
      "Added electronic: Headphones\n",
      "Removed electronic: Headphones\n",
      "\n",
      "Electronics Inventory:\n",
      "Name: Laptop, Price: $999.99, Quantity: 3\n"
     ]
    }
   ],
   "source": [
    "# Book inventory functions\n",
    "def add_book(book_inventory, name, price, quantity):\n",
    "    book_inventory[name] = (price, quantity)\n",
    "    print(f\"Added book: {name}\")\n",
    "\n",
    "def remove_book(book_inventory, name):\n",
    "    if name in book_inventory:\n",
    "        del book_inventory[name]\n",
    "        print(f\"Removed book: {name}\")\n",
    "    else:\n",
    "        print(f\"Book {name} not found\")\n",
    "\n",
    "def display_books(book_inventory):\n",
    "    print(\"\\nBook Inventory:\")\n",
    "    for name, (price, quantity) in book_inventory.items():\n",
    "        print(f\"Name: {name}, Price: ${price}, Quantity: {quantity}\")\n",
    "\n",
    "# Electronics inventory functions\n",
    "def add_electronic(electronic_inventory, name, price, quantity):\n",
    "    electronic_inventory[name] = (price, quantity)\n",
    "    print(f\"Added electronic: {name}\")\n",
    "\n",
    "def remove_electronic(electronic_inventory, name):\n",
    "    if name in electronic_inventory:\n",
    "        del electronic_inventory[name]\n",
    "        print(f\"Removed electronic: {name}\")\n",
    "    else:\n",
    "        print(f\"Electronic {name} not found\")\n",
    "\n",
    "def display_electronics(electronic_inventory):\n",
    "    print(\"\\nElectronics Inventory:\")\n",
    "    for name, (price, quantity) in electronic_inventory.items():\n",
    "        print(f\"Name: {name}, Price: ${price}, Quantity: {quantity}\")\n",
    "\n",
    "# Test the functions\n",
    "book_inventory = {}\n",
    "electronic_inventory = {}\n",
    "\n",
    "add_book(book_inventory, \"Python Basics\", 29.99, 10)\n",
    "add_book(book_inventory, \"Data Science\", 39.99, 5)\n",
    "remove_book(book_inventory, \"Python Basics\")\n",
    "display_books(book_inventory)\n",
    "\n",
    "add_electronic(electronic_inventory, \"Laptop\", 999.99, 3)\n",
    "add_electronic(electronic_inventory, \"Headphones\", 89.99, 15)\n",
    "remove_electronic(electronic_inventory, \"Headphones\")\n",
    "display_electronics(electronic_inventory)"
   ]
  },
  {
   "cell_type": "markdown",
   "metadata": {},
   "source": [
    "### Problems with Functions\n",
    "1. **Code Duplication**: Functions for books and electronics are nearly identical, violating DRY (Don't Repeat Yourself).\n",
    "2. **Scalability**: Adding a new category (e.g., clothing) requires three new functions.\n",
    "3. **Maintenance**: Changes (e.g., adding an item ID) require updating multiple functions.\n",
    "4. **Readability**: Repetitive code is harder to follow.\n",
    "\n",
    "## Step 2: Simple Classes Without Inheritance\n",
    "\n",
    "**Why Use Classes?**\n",
    "Classes:\n",
    "- **Encapsulate Data and Behavior**: Group data (inventory) and operations (add, remove, display) together.\n",
    "- **Reduce Duplication**: Each class encapsulates its own logic, though some duplication may remain without inheritance.\n",
    "- **Improve Readability**: Organize code logically within classes.\n",
    "\n",
    "**Task**: Refactor the function-based code into two separate classes, `BookInventory` and `ElectronicInventory`, without using inheritance. Each class should manage its own inventory with methods for adding, removing, and displaying items.\n",
    "\n",
    "### Simple Classes Code"
   ]
  },
  {
   "cell_type": "code",
   "execution_count": 9,
   "metadata": {},
   "outputs": [
    {
     "name": "stdout",
     "output_type": "stream",
     "text": [
      "Added Book: Python Basics\n",
      "Added Book: Data Science\n",
      "Removed Book: Python Basics\n",
      "\n",
      "Book Inventory:\n",
      "Name: Data Science, Price: $39.99, Quantity: 5\n",
      "Added Electronic: Laptop\n",
      "Added Electronic: Headphones\n",
      "Removed Electronic: Headphones\n",
      "\n",
      "Electronic Inventory:\n",
      "Name: Laptop, Price: $999.99, Quantity: 3\n"
     ]
    }
   ],
   "source": [
    "class BookInventory:\n",
    "    def __init__(self):\n",
    "        self.items = {}\n",
    "        self.category = \"Book\"\n",
    "\n",
    "    def add_item(self, name, price, quantity):\n",
    "        self.items[name] = (price, quantity)\n",
    "        print(f\"Added {self.category}: {name}\")\n",
    "\n",
    "    def remove_item(self, name):\n",
    "        if name in self.items:\n",
    "            del self.items[name]\n",
    "            print(f\"Removed {self.category}: {name}\")\n",
    "        else:\n",
    "            print(f\"{self.category} {name} not found\")\n",
    "\n",
    "    def display_items(self):\n",
    "        print(f\"\\n{self.category} Inventory:\")\n",
    "        for name, (price, quantity) in self.items.items():\n",
    "            print(f\"Name: {name}, Price: ${price}, Quantity: {quantity}\")\n",
    "\n",
    "class ElectronicInventory:\n",
    "    def __init__(self):\n",
    "        self.items = {}\n",
    "        self.category = \"Electronic\"\n",
    "\n",
    "    def add_item(self, name, price, quantity):\n",
    "        self.items[name] = (price, quantity)\n",
    "        print(f\"Added {self.category}: {name}\")\n",
    "\n",
    "    def remove_item(self, name):\n",
    "        if name in self.items:\n",
    "            del self.items[name]\n",
    "            print(f\"Removed {self.category}: {name}\")\n",
    "        else:\n",
    "            print(f\"{self.category} {name} not found\")\n",
    "\n",
    "    def display_items(self):\n",
    "        print(f\"\\n{self.category} Inventory:\")\n",
    "        for name, (price, quantity) in self.items.items():\n",
    "            print(f\"Name: {name}, Price: ${price}, Quantity: {quantity}\")\n",
    "\n",
    "# Test the classes\n",
    "book_inventory = BookInventory()\n",
    "electronic_inventory = ElectronicInventory()\n",
    "\n",
    "book_inventory.add_item(\"Python Basics\", 29.99, 10)\n",
    "book_inventory.add_item(\"Data Science\", 39.99, 5)\n",
    "book_inventory.remove_item(\"Python Basics\")\n",
    "book_inventory.display_items()\n",
    "\n",
    "electronic_inventory.add_item(\"Laptop\", 999.99, 3)\n",
    "electronic_inventory.add_item(\"Headphones\", 89.99, 15)\n",
    "electronic_inventory.remove_item(\"Headphones\")\n",
    "electronic_inventory.display_items()"
   ]
  },
  {
   "cell_type": "markdown",
   "metadata": {},
   "source": [
    "### Benefits of Simple Classes\n",
    "1. **Encapsulation**: Each class groups its data (`items`, `category`) and methods together, making the code more organized than separate functions and dictionaries.\n",
    "2. **Readability**: Methods like `add_item` are tied to the class, clarifying their purpose (e.g., `book_inventory.add_item()` vs. `add_book(book_inventory, ...)`).\n",
    "3. **Modularity**: Each class is a self-contained unit, easier to debug or extend.\n",
    "\n",
    "### Limitations\n",
    "- **Code Duplication**: The `add_item`, `remove_item`, and `display_items` methods are duplicated in both classes.\n",
    "- **Scalability**: Adding a new category (e.g., clothing) requires writing a new class with repeated method definitions.\n",
    "- **Maintenance**: Changes to common logic (e.g., adding an item ID) require updating both classes.\n",
    "\n",
    "## Step 3: Refactor Using Classes with Inheritance\n",
    "\n",
    "**Why Use Inheritance?**\n",
    "Inheritance:\n",
    "- **Eliminates Duplication**: Define common methods in a base class, reused by subclasses.\n",
    "- **Improves Scalability**: Add new categories by creating subclasses with minimal code.\n",
    "- **Simplifies Maintenance**: Update the base class to affect all subclasses.\n",
    "\n",
    "**Task**: Refactor the code using a base `Inventory` class with common methods, and create `BookInventory` and `ElectronicInventory` as subclasses.\n",
    "\n",
    "### Inheritance-Based Code"
   ]
  },
  {
   "cell_type": "code",
   "execution_count": 10,
   "metadata": {},
   "outputs": [
    {
     "name": "stdout",
     "output_type": "stream",
     "text": [
      "Added Book: Python Basics\n",
      "Added Book: Data Science\n",
      "Removed Book: Python Basics\n",
      "\n",
      "Book Inventory:\n",
      "Name: Data Science, Price: $39.99, Quantity: 5\n",
      "Added Electronic: Laptop\n",
      "Added Electronic: Headphones\n",
      "Removed Electronic: Headphones\n",
      "\n",
      "Electronic Inventory:\n",
      "Name: Laptop, Price: $999.99, Quantity: 3\n"
     ]
    }
   ],
   "source": [
    "class Inventory:\n",
    "    def __init__(self, category):\n",
    "        self.category = category\n",
    "        self.items = {}\n",
    "\n",
    "    def add_item(self, name, price, quantity):\n",
    "        self.items[name] = (price, quantity)\n",
    "        print(f\"Added {self.category}: {name}\")\n",
    "\n",
    "    def remove_item(self, name):\n",
    "        if name in self.items:\n",
    "            del self.items[name]\n",
    "            print(f\"Removed {self.category}: {name}\")\n",
    "        else:\n",
    "            print(f\"{self.category} {name} not found\")\n",
    "\n",
    "    def display_items(self):\n",
    "        print(f\"\\n{self.category} Inventory:\")\n",
    "        for name, (price, quantity) in self.items.items():\n",
    "            print(f\"Name: {name}, Price: ${price}, Quantity: {quantity}\")\n",
    "\n",
    "class BookInventory(Inventory):\n",
    "    def __init__(self):\n",
    "        super().__init__(\"Book\")\n",
    "\n",
    "class ElectronicInventory(Inventory):\n",
    "    def __init__(self):\n",
    "        super().__init__(\"Electronic\")\n",
    "\n",
    "# Test the classes\n",
    "book_inventory = BookInventory()\n",
    "electronic_inventory = ElectronicInventory()\n",
    "\n",
    "book_inventory.add_item(\"Python Basics\", 29.99, 10)\n",
    "book_inventory.add_item(\"Data Science\", 39.99, 5)\n",
    "book_inventory.remove_item(\"Python Basics\")\n",
    "book_inventory.display_items()\n",
    "\n",
    "electronic_inventory.add_item(\"Laptop\", 999.99, 3)\n",
    "electronic_inventory.add_item(\"Headphones\", 89.99, 15)\n",
    "electronic_inventory.remove_item(\"Headphones\")\n",
    "electronic_inventory.display_items()"
   ]
  },
  {
   "cell_type": "markdown",
   "metadata": {},
   "source": [
    "## Comparing Approaches\n",
    "\n",
    "1. **Function-Based**:\n",
    "   - Lines of code: ~30 (excluding tests)\n",
    "   - Duplicates logic for each category\n",
    "   - Hard to scale or maintain\n",
    "\n",
    "2. **Simple Classes (No Inheritance)**:\n",
    "   - Lines of code: ~28 (excluding tests)\n",
    "   - Encapsulates data and methods\n",
    "   - Still duplicates method definitions\n",
    "   - Better organized than functions\n",
    "\n",
    "3. **Classes with Inheritance**:\n",
    "   - Lines of code: ~18 (excluding tests)\n",
    "   - Eliminates method duplication\n",
    "   - Scales easily (add new categories with minimal code)\n",
    "   - Easiest to maintain and extend\n",
    "\n",
    "## Student Exercise\n",
    "\n",
    "1. Compare the three approaches by counting lines and assessing clarity.\n",
    "2. Create a `ClothingInventory` class:\n",
    "   - First, as a simple class without inheritance.\n",
    "   - Then, as a subclass of `Inventory`.\n",
    "3. Add an `item_id` parameter to `add_item` and update `display_items` to show it in the inheritance-based code.\n",
    "4. Add a `total_value` method to `BookInventory` to calculate the total inventory value (price × quantity).\n",
    "\n",
    "### Example Solution for Exercise"
   ]
  },
  {
   "cell_type": "code",
   "execution_count": 11,
   "metadata": {},
   "outputs": [
    {
     "name": "stdout",
     "output_type": "stream",
     "text": [
      "Added Book: Python Basics (ID: B001)\n",
      "Added Book: Data Science (ID: B002)\n",
      "Removed Book: Python Basics\n",
      "\n",
      "Book Inventory:\n",
      "Name: Data Science, Price: $39.99, Quantity: 5, ID: B002\n",
      "Total Book Inventory Value: $199.95000000000002\n",
      "Added Clothing: T-Shirt (ID: C001)\n",
      "\n",
      "Clothing Inventory:\n",
      "Name: T-Shirt, Price: $19.99, Quantity: 20, ID: C001\n"
     ]
    }
   ],
   "source": [
    "# Simple class without inheritance\n",
    "class ClothingInventory:\n",
    "    def __init__(self):\n",
    "        self.items = {}\n",
    "        self.category = \"Clothing\"\n",
    "\n",
    "    def add_item(self, name, price, quantity):\n",
    "        self.items[name] = (price, quantity)\n",
    "        print(f\"Added {self.category}: {name}\")\n",
    "\n",
    "    def remove_item(self, name):\n",
    "        if name in self.items:\n",
    "            del self.items[name]\n",
    "            print(f\"Removed {self.category}: {name}\")\n",
    "        else:\n",
    "            print(f\"{self.category} {name} not found\")\n",
    "\n",
    "    def display_items(self):\n",
    "        print(f\"\\n{self.category} Inventory:\")\n",
    "        for name, (price, quantity) in self.items.items():\n",
    "            print(f\"Name: {name}, Price: ${price}, Quantity: {quantity}\")\n",
    "\n",
    "# Inheritance-based classes with enhancements\n",
    "class Inventory:\n",
    "    def __init__(self, category):\n",
    "        self.category = category\n",
    "        self.items = {}\n",
    "\n",
    "    def add_item(self, name, price, quantity, item_id):\n",
    "        self.items[name] = (price, quantity, item_id)\n",
    "        print(f\"Added {self.category}: {name} (ID: {item_id})\")\n",
    "\n",
    "    def remove_item(self, name):\n",
    "        if name in self.items:\n",
    "            del self.items[name]\n",
    "            print(f\"Removed {self.category}: {name}\")\n",
    "        else:\n",
    "            print(f\"{self.category} {name} not found\")\n",
    "\n",
    "    def display_items(self):\n",
    "        print(f\"\\n{self.category} Inventory:\")\n",
    "        for name, (price, quantity, item_id) in self.items.items():\n",
    "            print(f\"Name: {name}, Price: ${price}, Quantity: {quantity}, ID: {item_id}\")\n",
    "\n",
    "class BookInventory(Inventory):\n",
    "    def __init__(self):\n",
    "        super().__init__(\"Book\")\n",
    "    \n",
    "    def total_value(self):\n",
    "        total = sum(price * quantity for price, quantity, _ in self.items.values())\n",
    "        print(f\"Total {self.category} Inventory Value: ${total}\")\n",
    "        return total\n",
    "\n",
    "class ElectronicInventory(Inventory):\n",
    "    def __init__(self):\n",
    "        super().__init__(\"Electronic\")\n",
    "\n",
    "class ClothingInventory(Inventory):\n",
    "    def __init__(self):\n",
    "        super().__init__(\"Clothing\")\n",
    "\n",
    "# Test the enhanced classes\n",
    "book_inventory = BookInventory()\n",
    "book_inventory.add_item(\"Python Basics\", 29.99, 10, \"B001\")\n",
    "book_inventory.add_item(\"Data Science\", 39.99, 5, \"B002\")\n",
    "book_inventory.remove_item(\"Python Basics\")\n",
    "book_inventory.display_items()\n",
    "book_inventory.total_value()\n",
    "\n",
    "clothing_inventory = ClothingInventory()\n",
    "clothing_inventory.add_item(\"T-Shirt\", 19.99, 20, \"C001\")\n",
    "clothing_inventory.display_items()"
   ]
  },
  {
   "cell_type": "code",
   "execution_count": null,
   "metadata": {},
   "outputs": [],
   "source": []
  },
  {
   "cell_type": "code",
   "execution_count": null,
   "metadata": {},
   "outputs": [],
   "source": []
  },
  {
   "cell_type": "code",
   "execution_count": null,
   "metadata": {},
   "outputs": [],
   "source": []
  },
  {
   "cell_type": "code",
   "execution_count": null,
   "metadata": {},
   "outputs": [],
   "source": []
  },
  {
   "cell_type": "code",
   "execution_count": null,
   "metadata": {},
   "outputs": [],
   "source": []
  },
  {
   "cell_type": "code",
   "execution_count": null,
   "metadata": {},
   "outputs": [],
   "source": []
  },
  {
   "cell_type": "code",
   "execution_count": null,
   "metadata": {},
   "outputs": [],
   "source": []
  },
  {
   "cell_type": "code",
   "execution_count": null,
   "metadata": {},
   "outputs": [],
   "source": []
  },
  {
   "cell_type": "code",
   "execution_count": null,
   "metadata": {},
   "outputs": [],
   "source": []
  }
 ],
 "metadata": {
  "kernelspec": {
   "display_name": "Python 3 (ipykernel)",
   "language": "python",
   "name": "python3"
  },
  "language_info": {
   "codemirror_mode": {
    "name": "ipython",
    "version": 3
   },
   "file_extension": ".py",
   "mimetype": "text/x-python",
   "name": "python",
   "nbconvert_exporter": "python",
   "pygments_lexer": "ipython3",
   "version": "3.11.0"
  }
 },
 "nbformat": 4,
 "nbformat_minor": 4
}
