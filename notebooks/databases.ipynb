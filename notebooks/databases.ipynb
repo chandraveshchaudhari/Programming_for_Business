{
 "cells": [
  {
   "cell_type": "markdown",
   "id": "56882ab1",
   "metadata": {},
   "source": [
    "# Database Management with Python"
   ]
  },
  {
   "cell_type": "code",
   "execution_count": null,
   "id": "56375a75",
   "metadata": {},
   "outputs": [],
   "source": [
    "# Your code here"
   ]
  }
 ],
 "metadata": {},
 "nbformat": 4,
 "nbformat_minor": 5
}
