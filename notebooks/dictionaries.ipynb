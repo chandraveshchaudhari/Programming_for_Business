{
 "cells": [
  {
   "cell_type": "markdown",
   "id": "6c723b6c",
   "metadata": {},
   "source": [
    "# Dictionaries Key Value Pairs and Methods"
   ]
  },
  {
   "cell_type": "code",
   "execution_count": null,
   "id": "a6d10f5b",
   "metadata": {},
   "outputs": [],
   "source": [
    "# Your code here"
   ]
  }
 ],
 "metadata": {},
 "nbformat": 4,
 "nbformat_minor": 5
}
