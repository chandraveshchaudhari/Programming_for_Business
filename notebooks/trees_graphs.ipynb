{
 "cells": [
  {
   "cell_type": "markdown",
   "id": "82a0d971",
   "metadata": {},
   "source": [
    "# Trees Graphs and Hash Tables"
   ]
  },
  {
   "cell_type": "code",
   "execution_count": null,
   "id": "bc57ee24",
   "metadata": {},
   "outputs": [],
   "source": [
    "# Your code here"
   ]
  }
 ],
 "metadata": {},
 "nbformat": 4,
 "nbformat_minor": 5
}
