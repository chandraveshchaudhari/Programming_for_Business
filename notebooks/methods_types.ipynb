{
 "cells": [
  {
   "cell_type": "markdown",
   "id": "d3830924",
   "metadata": {},
   "source": [
    "# Static Methods Class Methods and Instance Methods"
   ]
  },
  {
   "cell_type": "code",
   "execution_count": null,
   "id": "e20812d4",
   "metadata": {},
   "outputs": [],
   "source": [
    "# Your code here"
   ]
  }
 ],
 "metadata": {},
 "nbformat": 4,
 "nbformat_minor": 5
}
