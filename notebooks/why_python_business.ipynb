{
 "cells": [
  {
   "cell_type": "markdown",
   "id": "1ac3e4b2",
   "metadata": {},
   "source": [
    "# Why Python for Business and ML"
   ]
  },
  {
   "cell_type": "code",
   "execution_count": null,
   "id": "7c7643e1",
   "metadata": {},
   "outputs": [],
   "source": [
    "# Your code here"
   ]
  }
 ],
 "metadata": {},
 "nbformat": 4,
 "nbformat_minor": 5
}
