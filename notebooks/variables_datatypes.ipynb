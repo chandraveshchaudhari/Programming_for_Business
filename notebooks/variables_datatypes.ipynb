{
 "cells": [
  {
   "cell_type": "markdown",
   "id": "c9b8bdfe",
   "metadata": {},
   "source": [
    "# Variables Data Types and Operators"
   ]
  },
  {
   "cell_type": "code",
   "execution_count": null,
   "id": "951436bc",
   "metadata": {},
   "outputs": [],
   "source": [
    "# Your code here"
   ]
  }
 ],
 "metadata": {},
 "nbformat": 4,
 "nbformat_minor": 5
}
