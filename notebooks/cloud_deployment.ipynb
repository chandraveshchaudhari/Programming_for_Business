{
 "cells": [
  {
   "cell_type": "markdown",
   "id": "af7f50b4",
   "metadata": {},
   "source": [
    "# Cloud and Deployment for Business ML"
   ]
  },
  {
   "cell_type": "code",
   "execution_count": null,
   "id": "5edb14f9",
   "metadata": {},
   "outputs": [],
   "source": [
    "# Your code here"
   ]
  }
 ],
 "metadata": {},
 "nbformat": 4,
 "nbformat_minor": 5
}
