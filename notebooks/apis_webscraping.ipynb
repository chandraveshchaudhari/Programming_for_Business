{
 "cells": [
  {
   "cell_type": "markdown",
   "id": "9c1a2691",
   "metadata": {},
   "source": [
    "# Working with APIs and Web Scraping"
   ]
  },
  {
   "cell_type": "code",
   "execution_count": null,
   "id": "2fd406ea",
   "metadata": {},
   "outputs": [],
   "source": [
    "# Your code here"
   ]
  }
 ],
 "metadata": {},
 "nbformat": 4,
 "nbformat_minor": 5
}
